{
 "cells": [
  {
   "cell_type": "markdown",
   "metadata": {},
   "source": [
    "# Anscombe's Quartet Dataset\n",
    "----------------\n",
    "\n",
    "## Here follows and investigation into the origins and applications of the dataset\n",
    "\n",
    "The notebook will first provide a look into the origins of the dataset:\n",
    "* Who created it\n",
    "* When it was created\n",
    "* Reasons behing the origin of the dataset\n",
    "\n",
    "We will then have a look at some visual representations, in order to demonstrate some interesting characteristics of the dataset\n",
    "\n",
    "Following on, we will perform some statistical analysis and calculate a variety of descriptive statistics for the dataset\n",
    "\n",
    "Finally, using the above visuals and statistical calculations, we will discuss some of the more unusual aspects of the dataset"
   ]
  },
  {
   "cell_type": "code",
   "execution_count": null,
   "metadata": {},
   "outputs": [],
   "source": []
  },
  {
   "cell_type": "code",
   "execution_count": null,
   "metadata": {},
   "outputs": [],
   "source": []
  },
  {
   "cell_type": "code",
   "execution_count": null,
   "metadata": {},
   "outputs": [],
   "source": []
  },
  {
   "cell_type": "code",
   "execution_count": null,
   "metadata": {},
   "outputs": [],
   "source": []
  },
  {
   "cell_type": "code",
   "execution_count": null,
   "metadata": {},
   "outputs": [],
   "source": []
  },
  {
   "cell_type": "code",
   "execution_count": null,
   "metadata": {},
   "outputs": [],
   "source": []
  },
  {
   "cell_type": "markdown",
   "metadata": {},
   "source": [
    "# References\n",
    "-----\n",
    "**1.** *Reference 1* \n",
    "\n",
    "**2.** *Reference 2*\n",
    "\n",
    "**3.** *Reference 3*\n",
    "\n",
    "**4.** *Reference 4*\n",
    "\n",
    "**5.** *Reference 5*\n",
    "\n",
    "**6.** *Reference 6*\n",
    "\n",
    "**7.** *Reference 7*"
   ]
  }
 ],
 "metadata": {
  "kernelspec": {
   "display_name": "Python 3",
   "language": "python",
   "name": "python3"
  },
  "language_info": {
   "codemirror_mode": {
    "name": "ipython",
    "version": 3
   },
   "file_extension": ".py",
   "mimetype": "text/x-python",
   "name": "python",
   "nbconvert_exporter": "python",
   "pygments_lexer": "ipython3",
   "version": "3.6.6"
  }
 },
 "nbformat": 4,
 "nbformat_minor": 2
}
