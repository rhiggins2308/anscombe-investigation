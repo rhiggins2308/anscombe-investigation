{
 "cells": [
  {
   "cell_type": "markdown",
   "metadata": {},
   "source": [
    "# Anscombe's Quartet Dataset\n",
    "----------------\n",
    "\n",
    "## Here follows and investigation into the origins and applications of the dataset\n",
    "\n",
    "The notebook will first provide a look into the origins of the dataset:\n",
    "* Who created it\n",
    "* When it was created\n",
    "* Reasons behing the origin of the dataset\n",
    "\n",
    "We will then have a look at some visual representations, in order to demonstrate some interesting characteristics of the dataset\n",
    "\n",
    "Following on, we will perform some statistical analysis and calculate a variety of descriptive statistics for the dataset\n",
    "\n",
    "Finally, using the above visuals and statistical calculations, we will discuss some of the more unusual aspects of the dataset"
   ]
  },
  {
   "cell_type": "markdown",
   "metadata": {},
   "source": [
    "## Background of Anscombe's Quartet Dataset\n",
    "Frank Anscombe [1], English statistician, created the dataset in 1973 [2]. The dataset consists of four (4) distinct groups of bivariate data, each group containing 11 points with an x and y variable component.\n",
    "Anscombe felt that the statistical analysis of data through formulaic methods alone could be misleading and that the often discounted graphical method, should be used in order to (i) validate assumptions made about the data and (ii) provide context regarding the behaviour of the data [3]."
   ]
  },
  {
   "cell_type": "markdown",
   "metadata": {},
   "source": [
    "## Plotting the data"
   ]
  },
  {
   "cell_type": "markdown",
   "metadata": {},
   "source": [
    "## Summary Statistics"
   ]
  },
  {
   "cell_type": "markdown",
   "metadata": {},
   "source": [
    "## Significance of the dataset and statistical results"
   ]
  },
  {
   "cell_type": "code",
   "execution_count": null,
   "metadata": {},
   "outputs": [],
   "source": []
  },
  {
   "cell_type": "code",
   "execution_count": null,
   "metadata": {},
   "outputs": [],
   "source": []
  },
  {
   "cell_type": "markdown",
   "metadata": {},
   "source": [
    "## References\n",
    "-----\n",
    "**1.** *https://en.wikipedia.org/wiki/Frank_Anscombe* \n",
    "\n",
    "**2.** *https://en.wikipedia.org/wiki/Anscombe%27s_quartet*\n",
    "\n",
    "**3.** *http://www.sjsu.edu/faculty/gerstman/StatPrimer/anscombe1973.pdf*\n",
    "\n",
    "**4.** *Reference 4*\n",
    "\n",
    "**5.** *Reference 5*\n",
    "\n",
    "**6.** *Reference 6*\n",
    "\n",
    "**7.** *Reference 7*"
   ]
  }
 ],
 "metadata": {
  "kernelspec": {
   "display_name": "Python 3",
   "language": "python",
   "name": "python3"
  },
  "language_info": {
   "codemirror_mode": {
    "name": "ipython",
    "version": 3
   },
   "file_extension": ".py",
   "mimetype": "text/x-python",
   "name": "python",
   "nbconvert_exporter": "python",
   "pygments_lexer": "ipython3",
   "version": "3.6.6"
  }
 },
 "nbformat": 4,
 "nbformat_minor": 2
}
